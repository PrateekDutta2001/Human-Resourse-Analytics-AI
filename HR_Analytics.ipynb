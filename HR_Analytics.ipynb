{
  "metadata": {
    "kernelspec": {
      "language": "python",
      "display_name": "Python 3",
      "name": "python3"
    },
    "language_info": {
      "name": "python",
      "version": "3.7.12",
      "mimetype": "text/x-python",
      "codemirror_mode": {
        "name": "ipython",
        "version": 3
      },
      "pygments_lexer": "ipython3",
      "nbconvert_exporter": "python",
      "file_extension": ".py"
    },
    "colab": {
      "name": "HR Analytics.ipynb",
      "provenance": []
    }
  },
  "nbformat_minor": 0,
  "nbformat": 4,
  "cells": [
    {
      "cell_type": "markdown",
      "source": [
        "# Human Resource Analytics: AI - By Prateek Dutta\n",
        "\n",
        "### What is Employee Attrition\n",
        "\n",
        "Employee attrition, especially those of key and star employees is a major concern for an HR organization. When employees leave, it has many side effects. There is loss of organizational and product-specific expertise, loss of productivity due to new hires taking time to onboard. Sometimes employees have great relationships with customers, and that is hard to rebuild. There are also hiring costs and training costs associated. Employees leave due to various reasons. \n",
        "\n",
        "They include compensation, work satisfaction, performance, and issues with their supervisors. The online world had made it easy for outside recruiters to approach employees with better job offers, which can make a content employee leave. \n",
        "\n",
        "### How can AI help in this employee attrition? \n",
        "\n",
        "First, we need to collect 360-degree data about the employee's past and present. This include, but not limited to the tenure in the company, performance ratings, compensation and promotions. Relationships the employee has with their supervisor and peers also play a key part. 360 reviews will help understand this. Once the data is collected and associated with both past and present employees, it provides input to build an ML model to predict attrition. Then, HR can take preventive action that is needed."
      ],
      "metadata": {
        "id": "xyYGUNvdtNwL"
      }
    },
    {
      "cell_type": "markdown",
      "source": [
        "# Classification Using Deep Learning\n",
        "\n",
        "Let's quickly review the concept of classification in machine learning and its implementation in deep learning. Classification is a machine learning problem of identifying a set of categories to which a new observation belongs based on a training dataset that contains observations for which the category is already known. Classification is the most common type of machine learning problem. \n",
        "\n",
        "Examples include binary classification, like if a customer would buy a product or not, or multiclass classification, like determining the type of customer based on customer demographics. There are also a number of libraries that provide implementation of these algorithms. In Python, the most popular one is scikit-learn. \n",
        "\n",
        "In recent years, deep learning has revolutionized classification with its ability to handle complex relationships and generate highly accurate models. If you're not familiar with deep learning, I recommend watching other courses on this website that explains the basics of deep learning.\n",
        "\n",
        "We will use Keras library with TensorFlow backend for building the classification model."
      ],
      "metadata": {
        "id": "D_Hav1g4tNwa"
      }
    },
    {
      "cell_type": "markdown",
      "source": [
        "# About The Dataset\n",
        "\n",
        "The dataset contains feature attributes that could possibly impact an employee's decision to leave the organization. \n",
        "\n",
        "The first column is employee ID. \n",
        "\n",
        "The second column is the total months of experience that the employee has overall. \n",
        "\n",
        "Total orgs worked is the total number of organizations the employee has worked so far. \n",
        "\n",
        "Months in org is the total number of months the employee has worked in this organization. \n",
        "\n",
        "Last pay increment band is a scale of one to five with one being the highest. The higher the band, the higher the pay raise for the employee in the last increment cycle. \n",
        "\n",
        "Next comes average feedback based on the 360 degree feedback the employee got in performance reviews. Again, it's a scale of one to five, with one being the highest rating. \n",
        "\n",
        "Last promotion years represent the total number of years since the last promotion for the employee. \n",
        "\n",
        "Finally, we have the target variable attrition, which indicates if the employee left the organization or not. This is only a representational data set. For your organization, you should do enough research to include all kinds of data that may possibly influence an employee's decision."
      ],
      "metadata": {
        "id": "D1ZcmLtotNwe"
      }
    },
    {
      "cell_type": "markdown",
      "source": [
        "# Preprocessing Dataset"
      ],
      "metadata": {
        "id": "AAM4pQSJtNwi"
      }
    },
    {
      "cell_type": "markdown",
      "source": [
        "We first load the data using pandas into a data frame, then we review the data loaded, its structure and its contents. We can see that the data has been loaded correctly. In classification, it's always a good idea to understand the relationship between the feature and the target variables, especially which feature variables have the most impact on the target variable. We do so using correlation analysis. Here, we do a correlation analysis on the target variable, attrition.\n",
        "\n",
        "We see that the LastPromotionYears has a significant impact on attrition, meaning that employees leave when they don't see enough career growth. \n",
        "\n",
        "Next, we prepare the data for machine learning. We first convert the dataset into a NumPy array of type float. This is the preferred input format for Keras. \n",
        "\n",
        "Next, we split the feature and the target variables into X and Y. We leave out the EmployeeID. We could additionally do center and scaling too, if the accuracy is too low. For the target variable, we will use One-Hot Encoding using the Keras to_categorical function. Since the attrition is Boolean, it has two unique values. \n",
        "\n",
        "Finally, we print the shapes on X and Y. Let's run this code and review the results. We see that there are a thousand samples. X has six columns for the six attributes. Y has two columns since it has One-Hot Encoding for two unique values. In the next video, we will build a model for attrition."
      ],
      "metadata": {
        "id": "CUkKrLRGtNwj"
      }
    },
    {
      "cell_type": "code",
      "source": [
        "from google.colab import drive\n",
        "drive.mount('/gdrive/')\n",
        "%cd /gdrive"
      ],
      "metadata": {
        "colab": {
          "base_uri": "https://localhost:8080/"
        },
        "id": "V3Z6IE53tXsb",
        "outputId": "a76437be-e890-444d-9612-cfc386f3b3b9"
      },
      "execution_count": 1,
      "outputs": [
        {
          "output_type": "stream",
          "name": "stdout",
          "text": [
            "Mounted at /gdrive/\n",
            "/gdrive\n"
          ]
        }
      ]
    },
    {
      "cell_type": "code",
      "source": [
        "ls"
      ],
      "metadata": {
        "colab": {
          "base_uri": "https://localhost:8080/"
        },
        "id": "77rhP_httXiS",
        "outputId": "eeaba263-e68f-400a-bc18-075bb28c6909"
      },
      "execution_count": 2,
      "outputs": [
        {
          "output_type": "stream",
          "name": "stdout",
          "text": [
            "\u001b[0m\u001b[01;34mMyDrive\u001b[0m/  \u001b[01;34mShareddrives\u001b[0m/\n"
          ]
        }
      ]
    },
    {
      "cell_type": "code",
      "source": [
        "cd/gdrive/MyDrive/HR Analytics/"
      ],
      "metadata": {
        "colab": {
          "base_uri": "https://localhost:8080/"
        },
        "id": "F-J5aBeitXai",
        "outputId": "f0fa0810-f9b3-49e7-8618-e1294e955f98"
      },
      "execution_count": 3,
      "outputs": [
        {
          "output_type": "stream",
          "name": "stdout",
          "text": [
            "/gdrive/MyDrive/HR Analytics\n"
          ]
        }
      ]
    },
    {
      "cell_type": "code",
      "source": [
        "ls"
      ],
      "metadata": {
        "colab": {
          "base_uri": "https://localhost:8080/"
        },
        "id": "2htZl3l4tXRL",
        "outputId": "a3bdcd0d-ac47-47f2-ede3-84c886334548"
      },
      "execution_count": 4,
      "outputs": [
        {
          "output_type": "stream",
          "name": "stdout",
          "text": [
            "chat_groups.csv  employee_attrition.csv  employee_course_ratings.csv\n"
          ]
        }
      ]
    },
    {
      "cell_type": "code",
      "source": [
        "#Load the dataset and analyze\n",
        "import pandas as pd\n",
        "import os\n",
        "import tensorflow as tf\n",
        "import numpy as np\n",
        "attrition_data = pd.read_csv(\"employee_attrition.csv\")\n",
        "print(\"Data Loaded:\\n------------------------\\n\",attrition_data.dtypes)\n",
        "attrition_data.head()"
      ],
      "metadata": {
        "_uuid": "8f2839f25d086af736a60e9eeb907d3b93b6e0e5",
        "_cell_guid": "b1076dfc-b9ad-4769-8c92-a6c4dae69d19",
        "execution": {
          "iopub.status.busy": "2022-06-14T10:55:53.891579Z",
          "iopub.execute_input": "2022-06-14T10:55:53.892503Z",
          "iopub.status.idle": "2022-06-14T10:56:00.254243Z",
          "shell.execute_reply.started": "2022-06-14T10:55:53.892411Z",
          "shell.execute_reply": "2022-06-14T10:56:00.253513Z"
        },
        "trusted": true,
        "colab": {
          "base_uri": "https://localhost:8080/",
          "height": 407
        },
        "id": "RPqSbURCtNwl",
        "outputId": "720de6e8-ea1f-45c6-ad8e-68f976b63ff9"
      },
      "execution_count": 5,
      "outputs": [
        {
          "output_type": "stream",
          "name": "stdout",
          "text": [
            "Data Loaded:\n",
            "------------------------\n",
            " EmployeeID              int64\n",
            "TotalMonthsOfExp        int64\n",
            "TotalOrgsWorked         int64\n",
            "MonthsInOrg             int64\n",
            "LastPayIncrementBand    int64\n",
            "AverageFeedback         int64\n",
            "LastPromotionYears      int64\n",
            "Attrition               int64\n",
            "dtype: object\n"
          ]
        },
        {
          "output_type": "execute_result",
          "data": {
            "text/plain": [
              "   EmployeeID  TotalMonthsOfExp  TotalOrgsWorked  MonthsInOrg  \\\n",
              "0           1               110                4            9   \n",
              "1           2               103                3           51   \n",
              "2           3                41                4           16   \n",
              "3           4                32                4           17   \n",
              "4           5                80                3           16   \n",
              "\n",
              "   LastPayIncrementBand  AverageFeedback  LastPromotionYears  Attrition  \n",
              "0                     5                4                   4          1  \n",
              "1                     1                4                   2          0  \n",
              "2                     5                4                   4          1  \n",
              "3                     5                2                   3          0  \n",
              "4                     3                4                   2          0  "
            ],
            "text/html": [
              "\n",
              "  <div id=\"df-f6568be7-9ade-4956-a56b-c206590c904a\">\n",
              "    <div class=\"colab-df-container\">\n",
              "      <div>\n",
              "<style scoped>\n",
              "    .dataframe tbody tr th:only-of-type {\n",
              "        vertical-align: middle;\n",
              "    }\n",
              "\n",
              "    .dataframe tbody tr th {\n",
              "        vertical-align: top;\n",
              "    }\n",
              "\n",
              "    .dataframe thead th {\n",
              "        text-align: right;\n",
              "    }\n",
              "</style>\n",
              "<table border=\"1\" class=\"dataframe\">\n",
              "  <thead>\n",
              "    <tr style=\"text-align: right;\">\n",
              "      <th></th>\n",
              "      <th>EmployeeID</th>\n",
              "      <th>TotalMonthsOfExp</th>\n",
              "      <th>TotalOrgsWorked</th>\n",
              "      <th>MonthsInOrg</th>\n",
              "      <th>LastPayIncrementBand</th>\n",
              "      <th>AverageFeedback</th>\n",
              "      <th>LastPromotionYears</th>\n",
              "      <th>Attrition</th>\n",
              "    </tr>\n",
              "  </thead>\n",
              "  <tbody>\n",
              "    <tr>\n",
              "      <th>0</th>\n",
              "      <td>1</td>\n",
              "      <td>110</td>\n",
              "      <td>4</td>\n",
              "      <td>9</td>\n",
              "      <td>5</td>\n",
              "      <td>4</td>\n",
              "      <td>4</td>\n",
              "      <td>1</td>\n",
              "    </tr>\n",
              "    <tr>\n",
              "      <th>1</th>\n",
              "      <td>2</td>\n",
              "      <td>103</td>\n",
              "      <td>3</td>\n",
              "      <td>51</td>\n",
              "      <td>1</td>\n",
              "      <td>4</td>\n",
              "      <td>2</td>\n",
              "      <td>0</td>\n",
              "    </tr>\n",
              "    <tr>\n",
              "      <th>2</th>\n",
              "      <td>3</td>\n",
              "      <td>41</td>\n",
              "      <td>4</td>\n",
              "      <td>16</td>\n",
              "      <td>5</td>\n",
              "      <td>4</td>\n",
              "      <td>4</td>\n",
              "      <td>1</td>\n",
              "    </tr>\n",
              "    <tr>\n",
              "      <th>3</th>\n",
              "      <td>4</td>\n",
              "      <td>32</td>\n",
              "      <td>4</td>\n",
              "      <td>17</td>\n",
              "      <td>5</td>\n",
              "      <td>2</td>\n",
              "      <td>3</td>\n",
              "      <td>0</td>\n",
              "    </tr>\n",
              "    <tr>\n",
              "      <th>4</th>\n",
              "      <td>5</td>\n",
              "      <td>80</td>\n",
              "      <td>3</td>\n",
              "      <td>16</td>\n",
              "      <td>3</td>\n",
              "      <td>4</td>\n",
              "      <td>2</td>\n",
              "      <td>0</td>\n",
              "    </tr>\n",
              "  </tbody>\n",
              "</table>\n",
              "</div>\n",
              "      <button class=\"colab-df-convert\" onclick=\"convertToInteractive('df-f6568be7-9ade-4956-a56b-c206590c904a')\"\n",
              "              title=\"Convert this dataframe to an interactive table.\"\n",
              "              style=\"display:none;\">\n",
              "        \n",
              "  <svg xmlns=\"http://www.w3.org/2000/svg\" height=\"24px\"viewBox=\"0 0 24 24\"\n",
              "       width=\"24px\">\n",
              "    <path d=\"M0 0h24v24H0V0z\" fill=\"none\"/>\n",
              "    <path d=\"M18.56 5.44l.94 2.06.94-2.06 2.06-.94-2.06-.94-.94-2.06-.94 2.06-2.06.94zm-11 1L8.5 8.5l.94-2.06 2.06-.94-2.06-.94L8.5 2.5l-.94 2.06-2.06.94zm10 10l.94 2.06.94-2.06 2.06-.94-2.06-.94-.94-2.06-.94 2.06-2.06.94z\"/><path d=\"M17.41 7.96l-1.37-1.37c-.4-.4-.92-.59-1.43-.59-.52 0-1.04.2-1.43.59L10.3 9.45l-7.72 7.72c-.78.78-.78 2.05 0 2.83L4 21.41c.39.39.9.59 1.41.59.51 0 1.02-.2 1.41-.59l7.78-7.78 2.81-2.81c.8-.78.8-2.07 0-2.86zM5.41 20L4 18.59l7.72-7.72 1.47 1.35L5.41 20z\"/>\n",
              "  </svg>\n",
              "      </button>\n",
              "      \n",
              "  <style>\n",
              "    .colab-df-container {\n",
              "      display:flex;\n",
              "      flex-wrap:wrap;\n",
              "      gap: 12px;\n",
              "    }\n",
              "\n",
              "    .colab-df-convert {\n",
              "      background-color: #E8F0FE;\n",
              "      border: none;\n",
              "      border-radius: 50%;\n",
              "      cursor: pointer;\n",
              "      display: none;\n",
              "      fill: #1967D2;\n",
              "      height: 32px;\n",
              "      padding: 0 0 0 0;\n",
              "      width: 32px;\n",
              "    }\n",
              "\n",
              "    .colab-df-convert:hover {\n",
              "      background-color: #E2EBFA;\n",
              "      box-shadow: 0px 1px 2px rgba(60, 64, 67, 0.3), 0px 1px 3px 1px rgba(60, 64, 67, 0.15);\n",
              "      fill: #174EA6;\n",
              "    }\n",
              "\n",
              "    [theme=dark] .colab-df-convert {\n",
              "      background-color: #3B4455;\n",
              "      fill: #D2E3FC;\n",
              "    }\n",
              "\n",
              "    [theme=dark] .colab-df-convert:hover {\n",
              "      background-color: #434B5C;\n",
              "      box-shadow: 0px 1px 3px 1px rgba(0, 0, 0, 0.15);\n",
              "      filter: drop-shadow(0px 1px 2px rgba(0, 0, 0, 0.3));\n",
              "      fill: #FFFFFF;\n",
              "    }\n",
              "  </style>\n",
              "\n",
              "      <script>\n",
              "        const buttonEl =\n",
              "          document.querySelector('#df-f6568be7-9ade-4956-a56b-c206590c904a button.colab-df-convert');\n",
              "        buttonEl.style.display =\n",
              "          google.colab.kernel.accessAllowed ? 'block' : 'none';\n",
              "\n",
              "        async function convertToInteractive(key) {\n",
              "          const element = document.querySelector('#df-f6568be7-9ade-4956-a56b-c206590c904a');\n",
              "          const dataTable =\n",
              "            await google.colab.kernel.invokeFunction('convertToInteractive',\n",
              "                                                     [key], {});\n",
              "          if (!dataTable) return;\n",
              "\n",
              "          const docLinkHtml = 'Like what you see? Visit the ' +\n",
              "            '<a target=\"_blank\" href=https://colab.research.google.com/notebooks/data_table.ipynb>data table notebook</a>'\n",
              "            + ' to learn more about interactive tables.';\n",
              "          element.innerHTML = '';\n",
              "          dataTable['output_type'] = 'display_data';\n",
              "          await google.colab.output.renderOutput(dataTable, element);\n",
              "          const docLink = document.createElement('div');\n",
              "          docLink.innerHTML = docLinkHtml;\n",
              "          element.appendChild(docLink);\n",
              "        }\n",
              "      </script>\n",
              "    </div>\n",
              "  </div>\n",
              "  "
            ]
          },
          "metadata": {},
          "execution_count": 5
        }
      ]
    },
    {
      "cell_type": "code",
      "source": [
        "#Correlation Analysis of target attribute\n",
        "attrition_data.corr()['Attrition']"
      ],
      "metadata": {
        "execution": {
          "iopub.status.busy": "2022-06-14T10:56:05.113353Z",
          "iopub.execute_input": "2022-06-14T10:56:05.114247Z",
          "iopub.status.idle": "2022-06-14T10:56:05.129256Z",
          "shell.execute_reply.started": "2022-06-14T10:56:05.114207Z",
          "shell.execute_reply": "2022-06-14T10:56:05.128589Z"
        },
        "trusted": true,
        "colab": {
          "base_uri": "https://localhost:8080/"
        },
        "id": "1DboSzCitNwp",
        "outputId": "4a2c5611-af18-4180-80de-ad233786c5e7"
      },
      "execution_count": 6,
      "outputs": [
        {
          "output_type": "execute_result",
          "data": {
            "text/plain": [
              "EmployeeID             -0.036630\n",
              "TotalMonthsOfExp        0.019702\n",
              "TotalOrgsWorked         0.008706\n",
              "MonthsInOrg             0.012605\n",
              "LastPayIncrementBand    0.108528\n",
              "AverageFeedback        -0.008253\n",
              "LastPromotionYears      0.765641\n",
              "Attrition               1.000000\n",
              "Name: Attrition, dtype: float64"
            ]
          },
          "metadata": {},
          "execution_count": 6
        }
      ]
    },
    {
      "cell_type": "code",
      "source": [
        "#Convert to Dataframe to numpy array\n",
        "np_attrition = attrition_data.to_numpy().astype(float)\n",
        "#Create X_train with the first 7 attributes\n",
        "X_train = np_attrition[:,1:7]\n",
        "#Create Y_train with attrition attribute\n",
        "Y_train=np_attrition[:,7]\n",
        "#Convert Y_train to one-hot-encoding\n",
        "Y_train = tf.keras.utils.to_categorical(Y_train,2)\n",
        "print(\"X-Train Shape : \", X_train.shape)\n",
        "print(\"Y-Train Shape : \", Y_train.shape)"
      ],
      "metadata": {
        "execution": {
          "iopub.status.busy": "2022-06-14T10:56:06.273215Z",
          "iopub.execute_input": "2022-06-14T10:56:06.273604Z",
          "iopub.status.idle": "2022-06-14T10:56:07.461980Z",
          "shell.execute_reply.started": "2022-06-14T10:56:06.273574Z",
          "shell.execute_reply": "2022-06-14T10:56:07.460974Z"
        },
        "trusted": true,
        "colab": {
          "base_uri": "https://localhost:8080/"
        },
        "id": "yI2KU4jztNwu",
        "outputId": "7198bc02-92ef-4099-a849-101c3a1d96fd"
      },
      "execution_count": 7,
      "outputs": [
        {
          "output_type": "stream",
          "name": "stdout",
          "text": [
            "X-Train Shape :  (1000, 6)\n",
            "Y-Train Shape :  (1000, 2)\n"
          ]
        }
      ]
    },
    {
      "cell_type": "markdown",
      "source": [
        "# Building Attrition Model With Keras\n",
        "\n",
        "We start off by setting up the hyper parameters for the model. We will use an epoch of 100 and a batch size of 100. We will set verbose to one so that we can see the training results. The number of unique output classes is two. We will create hidden layers for 128 units. We will also do a validation split of 0.2. This means 20% of the data will be used for validation while building the model. I highly recommend experimenting with the hyper parameters to understand how they impact model accuracy. \n",
        "\n",
        "Now, we can create a Keras model. Then we add a dense, hidden layer with ReLU as activation. We then add a second hidden layer. Finally, we add an output dense layer with softmax activation. We compiled the model with Adam optimizer and use categorical crossentropy as the last function. We also measure the accuracy of the model. Then we fit the model for this input data. This set of steps is a standard template for building basic deep learning models.We can see that the model ended up with an accuracy of 99%. "
      ],
      "metadata": {
        "id": "N9Qe1Sm4tNwx"
      }
    },
    {
      "cell_type": "code",
      "source": [
        "from tensorflow import keras\n",
        "from tensorflow.keras import optimizers\n",
        "from tensorflow.keras.regularizers import l2\n",
        "#Setup hyperparameters for deep learning\n",
        "EPOCHS=100\n",
        "BATCH_SIZE=100\n",
        "VERBOSE=1\n",
        "NB_CLASSES=2\n",
        "N_HIDDEN=128\n",
        "VALIDATION_SPLIT=0.2\n",
        "#Create a Keras model\n",
        "model = tf.keras.models.Sequential()\n",
        "#Add first hidden Dense layer\n",
        "model.add(keras.layers.Dense(N_HIDDEN,\n",
        "                             input_shape=(6,),\n",
        "                              name='Dense-Layer-1',\n",
        "                              activation='relu'))\n",
        "#Add a second hidden dense layer\n",
        "model.add(keras.layers.Dense(N_HIDDEN,\n",
        "                              name='Dense-Layer-2',\n",
        "                              activation='relu'))\n",
        "#Add a final layer with softmax\n",
        "model.add(keras.layers.Dense(NB_CLASSES,\n",
        "                             name='Final',\n",
        "                             activation='softmax'))\n",
        "#Compile the model\n",
        "model.compile(optimizer='adam',\n",
        "              loss='categorical_crossentropy',\n",
        "              metrics=['accuracy'])\n",
        "#Fit parameters \n",
        "model.fit(X_train,\n",
        "          Y_train,\n",
        "          batch_size=BATCH_SIZE,\n",
        "          epochs=EPOCHS,\n",
        "          verbose=VERBOSE,\n",
        "          validation_split=VALIDATION_SPLIT)"
      ],
      "metadata": {
        "execution": {
          "iopub.status.busy": "2022-06-14T10:56:10.282391Z",
          "iopub.execute_input": "2022-06-14T10:56:10.282778Z",
          "iopub.status.idle": "2022-06-14T10:56:17.760575Z",
          "shell.execute_reply.started": "2022-06-14T10:56:10.282747Z",
          "shell.execute_reply": "2022-06-14T10:56:17.759535Z"
        },
        "trusted": true,
        "colab": {
          "base_uri": "https://localhost:8080/"
        },
        "id": "R483XTc2tNwy",
        "outputId": "4251ef46-938b-4527-9431-51f34036f43b"
      },
      "execution_count": 20,
      "outputs": [
        {
          "output_type": "stream",
          "name": "stdout",
          "text": [
            "Epoch 1/100\n",
            "8/8 [==============================] - 1s 25ms/step - loss: 1.0964 - accuracy: 0.6612 - val_loss: 1.2785 - val_accuracy: 0.7850\n",
            "Epoch 2/100\n",
            "8/8 [==============================] - 0s 7ms/step - loss: 0.9994 - accuracy: 0.6350 - val_loss: 0.8728 - val_accuracy: 0.7850\n",
            "Epoch 3/100\n",
            "8/8 [==============================] - 0s 5ms/step - loss: 0.7409 - accuracy: 0.7163 - val_loss: 0.5397 - val_accuracy: 0.7850\n",
            "Epoch 4/100\n",
            "8/8 [==============================] - 0s 6ms/step - loss: 0.6008 - accuracy: 0.7487 - val_loss: 0.6906 - val_accuracy: 0.5450\n",
            "Epoch 5/100\n",
            "8/8 [==============================] - 0s 6ms/step - loss: 0.5917 - accuracy: 0.7300 - val_loss: 0.5794 - val_accuracy: 0.7450\n",
            "Epoch 6/100\n",
            "8/8 [==============================] - 0s 6ms/step - loss: 0.5369 - accuracy: 0.7625 - val_loss: 0.5054 - val_accuracy: 0.8250\n",
            "Epoch 7/100\n",
            "8/8 [==============================] - 0s 7ms/step - loss: 0.4892 - accuracy: 0.7937 - val_loss: 0.4657 - val_accuracy: 0.8150\n",
            "Epoch 8/100\n",
            "8/8 [==============================] - 0s 7ms/step - loss: 0.4521 - accuracy: 0.8025 - val_loss: 0.4463 - val_accuracy: 0.8100\n",
            "Epoch 9/100\n",
            "8/8 [==============================] - 0s 9ms/step - loss: 0.4302 - accuracy: 0.8050 - val_loss: 0.4264 - val_accuracy: 0.8100\n",
            "Epoch 10/100\n",
            "8/8 [==============================] - 0s 5ms/step - loss: 0.4054 - accuracy: 0.8138 - val_loss: 0.3976 - val_accuracy: 0.8650\n",
            "Epoch 11/100\n",
            "8/8 [==============================] - 0s 6ms/step - loss: 0.3950 - accuracy: 0.8225 - val_loss: 0.3902 - val_accuracy: 0.8250\n",
            "Epoch 12/100\n",
            "8/8 [==============================] - 0s 6ms/step - loss: 0.3761 - accuracy: 0.8375 - val_loss: 0.3653 - val_accuracy: 0.8500\n",
            "Epoch 13/100\n",
            "8/8 [==============================] - 0s 6ms/step - loss: 0.3831 - accuracy: 0.8300 - val_loss: 0.3643 - val_accuracy: 0.8400\n",
            "Epoch 14/100\n",
            "8/8 [==============================] - 0s 5ms/step - loss: 0.4166 - accuracy: 0.8175 - val_loss: 0.3864 - val_accuracy: 0.8300\n",
            "Epoch 15/100\n",
            "8/8 [==============================] - 0s 5ms/step - loss: 0.3589 - accuracy: 0.8388 - val_loss: 0.3598 - val_accuracy: 0.8750\n",
            "Epoch 16/100\n",
            "8/8 [==============================] - 0s 5ms/step - loss: 0.3446 - accuracy: 0.8537 - val_loss: 0.3636 - val_accuracy: 0.8350\n",
            "Epoch 17/100\n",
            "8/8 [==============================] - 0s 6ms/step - loss: 0.3410 - accuracy: 0.8425 - val_loss: 0.3357 - val_accuracy: 0.8500\n",
            "Epoch 18/100\n",
            "8/8 [==============================] - 0s 5ms/step - loss: 0.3167 - accuracy: 0.8587 - val_loss: 0.3587 - val_accuracy: 0.8350\n",
            "Epoch 19/100\n",
            "8/8 [==============================] - 0s 6ms/step - loss: 0.3290 - accuracy: 0.8462 - val_loss: 0.3411 - val_accuracy: 0.8850\n",
            "Epoch 20/100\n",
            "8/8 [==============================] - 0s 5ms/step - loss: 0.3327 - accuracy: 0.8325 - val_loss: 0.4363 - val_accuracy: 0.8250\n",
            "Epoch 21/100\n",
            "8/8 [==============================] - 0s 5ms/step - loss: 0.3560 - accuracy: 0.8250 - val_loss: 0.3059 - val_accuracy: 0.9050\n",
            "Epoch 22/100\n",
            "8/8 [==============================] - 0s 8ms/step - loss: 0.3251 - accuracy: 0.8550 - val_loss: 0.3320 - val_accuracy: 0.8700\n",
            "Epoch 23/100\n",
            "8/8 [==============================] - 0s 5ms/step - loss: 0.2986 - accuracy: 0.8737 - val_loss: 0.3215 - val_accuracy: 0.8550\n",
            "Epoch 24/100\n",
            "8/8 [==============================] - 0s 5ms/step - loss: 0.3337 - accuracy: 0.8500 - val_loss: 0.4342 - val_accuracy: 0.8200\n",
            "Epoch 25/100\n",
            "8/8 [==============================] - 0s 5ms/step - loss: 0.3466 - accuracy: 0.8375 - val_loss: 0.3152 - val_accuracy: 0.8600\n",
            "Epoch 26/100\n",
            "8/8 [==============================] - 0s 5ms/step - loss: 0.2969 - accuracy: 0.8700 - val_loss: 0.3096 - val_accuracy: 0.8850\n",
            "Epoch 27/100\n",
            "8/8 [==============================] - 0s 7ms/step - loss: 0.3158 - accuracy: 0.8600 - val_loss: 0.3007 - val_accuracy: 0.8700\n",
            "Epoch 28/100\n",
            "8/8 [==============================] - 0s 5ms/step - loss: 0.2930 - accuracy: 0.8612 - val_loss: 0.2997 - val_accuracy: 0.8650\n",
            "Epoch 29/100\n",
            "8/8 [==============================] - 0s 5ms/step - loss: 0.2753 - accuracy: 0.8788 - val_loss: 0.2795 - val_accuracy: 0.8700\n",
            "Epoch 30/100\n",
            "8/8 [==============================] - 0s 6ms/step - loss: 0.2663 - accuracy: 0.8950 - val_loss: 0.2798 - val_accuracy: 0.9200\n",
            "Epoch 31/100\n",
            "8/8 [==============================] - 0s 8ms/step - loss: 0.2655 - accuracy: 0.8900 - val_loss: 0.3218 - val_accuracy: 0.8650\n",
            "Epoch 32/100\n",
            "8/8 [==============================] - 0s 5ms/step - loss: 0.2724 - accuracy: 0.8813 - val_loss: 0.2588 - val_accuracy: 0.9000\n",
            "Epoch 33/100\n",
            "8/8 [==============================] - 0s 5ms/step - loss: 0.2608 - accuracy: 0.8813 - val_loss: 0.2601 - val_accuracy: 0.8800\n",
            "Epoch 34/100\n",
            "8/8 [==============================] - 0s 5ms/step - loss: 0.2536 - accuracy: 0.8950 - val_loss: 0.2699 - val_accuracy: 0.9050\n",
            "Epoch 35/100\n",
            "8/8 [==============================] - 0s 6ms/step - loss: 0.2568 - accuracy: 0.8913 - val_loss: 0.2506 - val_accuracy: 0.8700\n",
            "Epoch 36/100\n",
            "8/8 [==============================] - 0s 6ms/step - loss: 0.2390 - accuracy: 0.9038 - val_loss: 0.2416 - val_accuracy: 0.9050\n",
            "Epoch 37/100\n",
            "8/8 [==============================] - 0s 6ms/step - loss: 0.2362 - accuracy: 0.9013 - val_loss: 0.2536 - val_accuracy: 0.9150\n",
            "Epoch 38/100\n",
            "8/8 [==============================] - 0s 5ms/step - loss: 0.2388 - accuracy: 0.8988 - val_loss: 0.3364 - val_accuracy: 0.8300\n",
            "Epoch 39/100\n",
            "8/8 [==============================] - 0s 6ms/step - loss: 0.3014 - accuracy: 0.8637 - val_loss: 0.2413 - val_accuracy: 0.8800\n",
            "Epoch 40/100\n",
            "8/8 [==============================] - 0s 6ms/step - loss: 0.2580 - accuracy: 0.8838 - val_loss: 0.2394 - val_accuracy: 0.8850\n",
            "Epoch 41/100\n",
            "8/8 [==============================] - 0s 5ms/step - loss: 0.2256 - accuracy: 0.8950 - val_loss: 0.2293 - val_accuracy: 0.9300\n",
            "Epoch 42/100\n",
            "8/8 [==============================] - 0s 6ms/step - loss: 0.2626 - accuracy: 0.8775 - val_loss: 0.3905 - val_accuracy: 0.8400\n",
            "Epoch 43/100\n",
            "8/8 [==============================] - 0s 5ms/step - loss: 0.2955 - accuracy: 0.8788 - val_loss: 0.3725 - val_accuracy: 0.8500\n",
            "Epoch 44/100\n",
            "8/8 [==============================] - 0s 6ms/step - loss: 0.2417 - accuracy: 0.8938 - val_loss: 0.2222 - val_accuracy: 0.9000\n",
            "Epoch 45/100\n",
            "8/8 [==============================] - 0s 5ms/step - loss: 0.2081 - accuracy: 0.9162 - val_loss: 0.2156 - val_accuracy: 0.9250\n",
            "Epoch 46/100\n",
            "8/8 [==============================] - 0s 5ms/step - loss: 0.2100 - accuracy: 0.9050 - val_loss: 0.2466 - val_accuracy: 0.8750\n",
            "Epoch 47/100\n",
            "8/8 [==============================] - 0s 9ms/step - loss: 0.1986 - accuracy: 0.9225 - val_loss: 0.2092 - val_accuracy: 0.9250\n",
            "Epoch 48/100\n",
            "8/8 [==============================] - 0s 7ms/step - loss: 0.2033 - accuracy: 0.9275 - val_loss: 0.2431 - val_accuracy: 0.8700\n",
            "Epoch 49/100\n",
            "8/8 [==============================] - 0s 5ms/step - loss: 0.2170 - accuracy: 0.9125 - val_loss: 0.2665 - val_accuracy: 0.8900\n",
            "Epoch 50/100\n",
            "8/8 [==============================] - 0s 6ms/step - loss: 0.2140 - accuracy: 0.9050 - val_loss: 0.2183 - val_accuracy: 0.9300\n",
            "Epoch 51/100\n",
            "8/8 [==============================] - 0s 6ms/step - loss: 0.2215 - accuracy: 0.9038 - val_loss: 0.2491 - val_accuracy: 0.8800\n",
            "Epoch 52/100\n",
            "8/8 [==============================] - 0s 5ms/step - loss: 0.2163 - accuracy: 0.8963 - val_loss: 0.2458 - val_accuracy: 0.8700\n",
            "Epoch 53/100\n",
            "8/8 [==============================] - 0s 5ms/step - loss: 0.2220 - accuracy: 0.9050 - val_loss: 0.1899 - val_accuracy: 0.9200\n",
            "Epoch 54/100\n",
            "8/8 [==============================] - 0s 5ms/step - loss: 0.1865 - accuracy: 0.9337 - val_loss: 0.2542 - val_accuracy: 0.8800\n",
            "Epoch 55/100\n",
            "8/8 [==============================] - 0s 5ms/step - loss: 0.2126 - accuracy: 0.9013 - val_loss: 0.2197 - val_accuracy: 0.8850\n",
            "Epoch 56/100\n",
            "8/8 [==============================] - 0s 5ms/step - loss: 0.1785 - accuracy: 0.9400 - val_loss: 0.1822 - val_accuracy: 0.9450\n",
            "Epoch 57/100\n",
            "8/8 [==============================] - 0s 5ms/step - loss: 0.1640 - accuracy: 0.9400 - val_loss: 0.1847 - val_accuracy: 0.9400\n",
            "Epoch 58/100\n",
            "8/8 [==============================] - 0s 5ms/step - loss: 0.1882 - accuracy: 0.9225 - val_loss: 0.2467 - val_accuracy: 0.8650\n",
            "Epoch 59/100\n",
            "8/8 [==============================] - 0s 6ms/step - loss: 0.1996 - accuracy: 0.9125 - val_loss: 0.1871 - val_accuracy: 0.9200\n",
            "Epoch 60/100\n",
            "8/8 [==============================] - 0s 5ms/step - loss: 0.1777 - accuracy: 0.9237 - val_loss: 0.1735 - val_accuracy: 0.9450\n",
            "Epoch 61/100\n",
            "8/8 [==============================] - 0s 6ms/step - loss: 0.1997 - accuracy: 0.9225 - val_loss: 0.3309 - val_accuracy: 0.8450\n",
            "Epoch 62/100\n",
            "8/8 [==============================] - 0s 8ms/step - loss: 0.2362 - accuracy: 0.9062 - val_loss: 0.1726 - val_accuracy: 0.9400\n",
            "Epoch 63/100\n",
            "8/8 [==============================] - 0s 6ms/step - loss: 0.1594 - accuracy: 0.9450 - val_loss: 0.1679 - val_accuracy: 0.9450\n",
            "Epoch 64/100\n",
            "8/8 [==============================] - 0s 5ms/step - loss: 0.1830 - accuracy: 0.9187 - val_loss: 0.1622 - val_accuracy: 0.9450\n",
            "Epoch 65/100\n",
            "8/8 [==============================] - 0s 6ms/step - loss: 0.1671 - accuracy: 0.9350 - val_loss: 0.2038 - val_accuracy: 0.8900\n",
            "Epoch 66/100\n",
            "8/8 [==============================] - 0s 7ms/step - loss: 0.1516 - accuracy: 0.9438 - val_loss: 0.1544 - val_accuracy: 0.9450\n",
            "Epoch 67/100\n",
            "8/8 [==============================] - 0s 5ms/step - loss: 0.1566 - accuracy: 0.9413 - val_loss: 0.1720 - val_accuracy: 0.9400\n",
            "Epoch 68/100\n",
            "8/8 [==============================] - 0s 6ms/step - loss: 0.1417 - accuracy: 0.9525 - val_loss: 0.1572 - val_accuracy: 0.9400\n",
            "Epoch 69/100\n",
            "8/8 [==============================] - 0s 6ms/step - loss: 0.1594 - accuracy: 0.9450 - val_loss: 0.1577 - val_accuracy: 0.9200\n",
            "Epoch 70/100\n",
            "8/8 [==============================] - 0s 6ms/step - loss: 0.1360 - accuracy: 0.9575 - val_loss: 0.1962 - val_accuracy: 0.9250\n",
            "Epoch 71/100\n",
            "8/8 [==============================] - 0s 6ms/step - loss: 0.1526 - accuracy: 0.9400 - val_loss: 0.1466 - val_accuracy: 0.9450\n",
            "Epoch 72/100\n",
            "8/8 [==============================] - 0s 5ms/step - loss: 0.1298 - accuracy: 0.9650 - val_loss: 0.1632 - val_accuracy: 0.9450\n",
            "Epoch 73/100\n",
            "8/8 [==============================] - 0s 5ms/step - loss: 0.1427 - accuracy: 0.9475 - val_loss: 0.1474 - val_accuracy: 0.9500\n",
            "Epoch 74/100\n",
            "8/8 [==============================] - 0s 5ms/step - loss: 0.1435 - accuracy: 0.9475 - val_loss: 0.1720 - val_accuracy: 0.9000\n",
            "Epoch 75/100\n",
            "8/8 [==============================] - 0s 5ms/step - loss: 0.1280 - accuracy: 0.9538 - val_loss: 0.1543 - val_accuracy: 0.9450\n",
            "Epoch 76/100\n",
            "8/8 [==============================] - 0s 5ms/step - loss: 0.1775 - accuracy: 0.9125 - val_loss: 0.2033 - val_accuracy: 0.9000\n",
            "Epoch 77/100\n",
            "8/8 [==============================] - 0s 6ms/step - loss: 0.2002 - accuracy: 0.9162 - val_loss: 0.2323 - val_accuracy: 0.8900\n",
            "Epoch 78/100\n",
            "8/8 [==============================] - 0s 5ms/step - loss: 0.1704 - accuracy: 0.9300 - val_loss: 0.1642 - val_accuracy: 0.9350\n",
            "Epoch 79/100\n",
            "8/8 [==============================] - 0s 5ms/step - loss: 0.1555 - accuracy: 0.9275 - val_loss: 0.1330 - val_accuracy: 0.9500\n",
            "Epoch 80/100\n",
            "8/8 [==============================] - 0s 6ms/step - loss: 0.1478 - accuracy: 0.9450 - val_loss: 0.2123 - val_accuracy: 0.8950\n",
            "Epoch 81/100\n",
            "8/8 [==============================] - 0s 6ms/step - loss: 0.2044 - accuracy: 0.9062 - val_loss: 0.1457 - val_accuracy: 0.9500\n",
            "Epoch 82/100\n",
            "8/8 [==============================] - 0s 6ms/step - loss: 0.2300 - accuracy: 0.9137 - val_loss: 0.2433 - val_accuracy: 0.8600\n",
            "Epoch 83/100\n",
            "8/8 [==============================] - 0s 6ms/step - loss: 0.1518 - accuracy: 0.9337 - val_loss: 0.1409 - val_accuracy: 0.9400\n",
            "Epoch 84/100\n",
            "8/8 [==============================] - 0s 7ms/step - loss: 0.1235 - accuracy: 0.9613 - val_loss: 0.1721 - val_accuracy: 0.9100\n",
            "Epoch 85/100\n",
            "8/8 [==============================] - 0s 7ms/step - loss: 0.1227 - accuracy: 0.9613 - val_loss: 0.1490 - val_accuracy: 0.9250\n",
            "Epoch 86/100\n",
            "8/8 [==============================] - 0s 5ms/step - loss: 0.1147 - accuracy: 0.9675 - val_loss: 0.1673 - val_accuracy: 0.9300\n",
            "Epoch 87/100\n",
            "8/8 [==============================] - 0s 5ms/step - loss: 0.1190 - accuracy: 0.9538 - val_loss: 0.1674 - val_accuracy: 0.9250\n",
            "Epoch 88/100\n",
            "8/8 [==============================] - 0s 5ms/step - loss: 0.1403 - accuracy: 0.9413 - val_loss: 0.1304 - val_accuracy: 0.9550\n",
            "Epoch 89/100\n",
            "8/8 [==============================] - 0s 5ms/step - loss: 0.1188 - accuracy: 0.9563 - val_loss: 0.2139 - val_accuracy: 0.8950\n",
            "Epoch 90/100\n",
            "8/8 [==============================] - 0s 5ms/step - loss: 0.1129 - accuracy: 0.9613 - val_loss: 0.1275 - val_accuracy: 0.9550\n",
            "Epoch 91/100\n",
            "8/8 [==============================] - 0s 6ms/step - loss: 0.0963 - accuracy: 0.9825 - val_loss: 0.1220 - val_accuracy: 0.9600\n",
            "Epoch 92/100\n",
            "8/8 [==============================] - 0s 5ms/step - loss: 0.0983 - accuracy: 0.9825 - val_loss: 0.1112 - val_accuracy: 0.9700\n",
            "Epoch 93/100\n",
            "8/8 [==============================] - 0s 6ms/step - loss: 0.0918 - accuracy: 0.9862 - val_loss: 0.1172 - val_accuracy: 0.9550\n",
            "Epoch 94/100\n",
            "8/8 [==============================] - 0s 5ms/step - loss: 0.0964 - accuracy: 0.9787 - val_loss: 0.1307 - val_accuracy: 0.9450\n",
            "Epoch 95/100\n",
            "8/8 [==============================] - 0s 6ms/step - loss: 0.0975 - accuracy: 0.9787 - val_loss: 0.1358 - val_accuracy: 0.9450\n",
            "Epoch 96/100\n",
            "8/8 [==============================] - 0s 5ms/step - loss: 0.1065 - accuracy: 0.9625 - val_loss: 0.1162 - val_accuracy: 0.9600\n",
            "Epoch 97/100\n",
            "8/8 [==============================] - 0s 5ms/step - loss: 0.1031 - accuracy: 0.9688 - val_loss: 0.1170 - val_accuracy: 0.9600\n",
            "Epoch 98/100\n",
            "8/8 [==============================] - 0s 6ms/step - loss: 0.0891 - accuracy: 0.9787 - val_loss: 0.1097 - val_accuracy: 0.9600\n",
            "Epoch 99/100\n",
            "8/8 [==============================] - 0s 7ms/step - loss: 0.0831 - accuracy: 0.9862 - val_loss: 0.1050 - val_accuracy: 0.9650\n",
            "Epoch 100/100\n",
            "8/8 [==============================] - 0s 6ms/step - loss: 0.0905 - accuracy: 0.9825 - val_loss: 0.1025 - val_accuracy: 0.9700\n"
          ]
        },
        {
          "output_type": "execute_result",
          "data": {
            "text/plain": [
              "<keras.callbacks.History at 0x7fe152452d10>"
            ]
          },
          "metadata": {},
          "execution_count": 20
        }
      ]
    },
    {
      "cell_type": "markdown",
      "source": [
        "# Predicting Attrition With Keras\n",
        "\n",
        "In order to predict attrition, we need to get the same set of six feature variables about the new employee for whom we need to predict attrition. Prediction then is an easy call to the model.predict_classes method that will output a zero or one based on the features. \n",
        "\n",
        "We can see that the algorithm predicts that the employee will leave. We can also do bulk predictions for multiple employees. We need to create an array of arrays with the inner array representing an employee. The method call is the same.\n",
        "\n",
        "I would strongly recommend using additional data points as well as experimenting with hyperparameters and layers for your own model."
      ],
      "metadata": {
        "id": "myK0kJi5tNw0"
      }
    },
    {
      "cell_type": "code",
      "source": [
        "TotalMonthsOfExp=40\n",
        "TotalOrgsWorked=4\n",
        "MonthsInOrg=20\n",
        "LastPayIncrementBand=5\n",
        "AverageFeedback=4\n",
        "LastPromotionYears=4\n",
        "print(\"Will employee leave ?\")\n",
        "prediction= np.argmax(model.predict([[TotalMonthsOfExp,\n",
        "                                  TotalOrgsWorked,\n",
        "                                  MonthsInOrg,\n",
        "                                  LastPayIncrementBand,\n",
        "                                  AverageFeedback,\n",
        "                                  LastPromotionYears]]), axis=1)\n",
        "print(prediction)"
      ],
      "metadata": {
        "execution": {
          "iopub.status.busy": "2022-06-14T10:59:31.624377Z",
          "iopub.execute_input": "2022-06-14T10:59:31.624771Z",
          "iopub.status.idle": "2022-06-14T10:59:31.709206Z",
          "shell.execute_reply.started": "2022-06-14T10:59:31.624742Z",
          "shell.execute_reply": "2022-06-14T10:59:31.708048Z"
        },
        "trusted": true,
        "colab": {
          "base_uri": "https://localhost:8080/"
        },
        "id": "8AhFibH0tNw1",
        "outputId": "a1eaf1d8-13c4-4a39-ad80-6707e3b19c08"
      },
      "execution_count": 21,
      "outputs": [
        {
          "output_type": "stream",
          "name": "stdout",
          "text": [
            "Will employee leave ?\n",
            "WARNING:tensorflow:5 out of the last 9 calls to <function Model.make_predict_function.<locals>.predict_function at 0x7fe15245ff80> triggered tf.function retracing. Tracing is expensive and the excessive number of tracings could be due to (1) creating @tf.function repeatedly in a loop, (2) passing tensors with different shapes, (3) passing Python objects instead of tensors. For (1), please define your @tf.function outside of the loop. For (2), @tf.function has experimental_relax_shapes=True option that relaxes argument shapes that can avoid unnecessary retracing. For (3), please refer to https://www.tensorflow.org/guide/function#controlling_retracing and https://www.tensorflow.org/api_docs/python/tf/function for  more details.\n",
            "[1]\n"
          ]
        }
      ]
    },
    {
      "cell_type": "code",
      "source": [
        "#Bulk predictions\n",
        "bulk_pred=np.argmax(model.predict(\n",
        "    [[111,5,85,3,2,2],\n",
        "    [31,2,15,4,1,4],\n",
        "    [61,4,24,1,4,3],\n",
        "    [77,4,35,3,1,1],\n",
        "    [81,5,7,1,2,3],\n",
        "    [113,4,112,5,4,1],\n",
        "    [101,2,48,5,1,4],\n",
        "    [45,4,22,5,3,1],\n",
        "    [25,2,2,2,3,2],\n",
        "    [97,3,15,3,2,4]]), axis=1)\n",
        "bulk_pred"
      ],
      "metadata": {
        "execution": {
          "iopub.status.busy": "2022-06-14T11:00:24.804840Z",
          "iopub.execute_input": "2022-06-14T11:00:24.805256Z",
          "iopub.status.idle": "2022-06-14T11:00:24.929335Z",
          "shell.execute_reply.started": "2022-06-14T11:00:24.805223Z",
          "shell.execute_reply": "2022-06-14T11:00:24.928224Z"
        },
        "trusted": true,
        "colab": {
          "base_uri": "https://localhost:8080/"
        },
        "id": "q_1sfgoFtNw1",
        "outputId": "66621ef8-2186-49a7-8cf5-6cc9f32c588b"
      },
      "execution_count": 22,
      "outputs": [
        {
          "output_type": "execute_result",
          "data": {
            "text/plain": [
              "array([0, 1, 0, 0, 0, 0, 1, 0, 0, 1])"
            ]
          },
          "metadata": {},
          "execution_count": 22
        }
      ]
    },
    {
      "cell_type": "markdown",
      "source": [
        "# Conclusion\n",
        "\n",
        "With this we conclude the notebook after successfully applying AI to a use-case of Predicting Employee Attrition in HR Analytics.\n",
        "\n",
        "⭐ Have a great day! ⭐"
      ],
      "metadata": {
        "id": "snAGFCa0tNw2"
      }
    }
  ]
}